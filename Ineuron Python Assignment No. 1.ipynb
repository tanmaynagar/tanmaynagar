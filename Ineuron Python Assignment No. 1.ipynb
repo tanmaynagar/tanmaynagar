{
 "cells": [
  {
   "cell_type": "markdown",
   "id": "90828d7c",
   "metadata": {},
   "source": [
    "# Bootcamp 2.0 | Assignment No. 1"
   ]
  },
  {
   "cell_type": "code",
   "execution_count": null,
   "id": "95c109af",
   "metadata": {},
   "outputs": [],
   "source": [
    "#Q.1 Find out all the types of error that we have encountered in our lecture and why? Also include the examples."
   ]
  },
  {
   "cell_type": "code",
   "execution_count": 2,
   "id": "a7b8c8dd",
   "metadata": {},
   "outputs": [],
   "source": [
    "#Ans 1.\n",
    "#1 Name error => Python is case sensitive language and hence variable defined as TEN won't produce same results for Ten or tEn.\n",
    "#2 Type error with print as variable => We defined reserved words 'print' as variable, hence python can't call print function. Later print variable was deleted to eliminate this error\n",
    "#3 Type error while applying mathematical functions on numeric values with user input which were by default defined as string => This error was eliminated by using int(input()) while calculating age of user for mathematical operations to take place\n",
    "#4 Value error => User defined integer variable was inputted with float variable which produced error. Variable definition with float will resolve this error.\n",
    "#5 Value error => String variable with decimal value was converted to integer which produced error. Variable conversion with float() will resolve this error.\n",
    "#6 Value error => Empty string was converted to integer which produced error since no integer was inputted for integer definition.\n"
   ]
  },
  {
   "cell_type": "code",
   "execution_count": null,
   "id": "164ec1df",
   "metadata": {},
   "outputs": [],
   "source": [
    "#Q2.Take input A and B and print their sum, mul, div, square of the nos."
   ]
  },
  {
   "cell_type": "code",
   "execution_count": 3,
   "id": "20413282",
   "metadata": {},
   "outputs": [
    {
     "name": "stdout",
     "output_type": "stream",
     "text": [
      "Enter the value of A: 12\n",
      "Enter the value of B: 18\n",
      "The sum of A & B is: 30.0\n",
      "The product of A & B is: 216.0\n",
      "The division of A & B is: 0.6666666666666666\n",
      "The square of A & B is: 144.0,324.0\n"
     ]
    }
   ],
   "source": [
    "#Ans 2.\n",
    "A = float(input(\"Enter the value of A: \"))\n",
    "B = float(input(\"Enter the value of B: \"))\n",
    "\n",
    "print(f\"The sum of A & B is: {A+B}\")\n",
    "print(f\"The product of A & B is: {A*B}\")\n",
    "print(f\"The division of A & B is: {A/B}\")\n",
    "print(f\"The square of A & B is: {A**2},{B**2}\")"
   ]
  },
  {
   "cell_type": "code",
   "execution_count": null,
   "id": "e1fda5f6",
   "metadata": {},
   "outputs": [],
   "source": [
    "#Q3. How many reserve keywords are there in python and why we should not use them as a variable name."
   ]
  },
  {
   "cell_type": "code",
   "execution_count": 4,
   "id": "4e17c5c5",
   "metadata": {},
   "outputs": [],
   "source": [
    "#Ans 3.There are 31 reserved keywords in python & using them as variable would produce type error since keyword won't be able to produce the desired inputs when called for performing keyword defined function\n"
   ]
  },
  {
   "cell_type": "code",
   "execution_count": 5,
   "id": "f793cc89",
   "metadata": {},
   "outputs": [],
   "source": [
    "#Q4. Create email ids with the user inputs. in the following format - lastname.firstname@gmail.com"
   ]
  },
  {
   "cell_type": "code",
   "execution_count": 7,
   "id": "7a73f799",
   "metadata": {},
   "outputs": [
    {
     "name": "stdout",
     "output_type": "stream",
     "text": [
      "Please enter your first name: tanmay\n",
      "Please enter your last name: nagar\n",
      "Your email id is nagar.tanmay@gmail.com\n"
     ]
    }
   ],
   "source": [
    "#Ans 4.\n",
    "firstname = input(\"Please enter your first name: \")\n",
    "lastname = input(\"Please enter your last name: \")\n",
    "print(f\"Your email id is {lastname}.{firstname}@gmail.com\")"
   ]
  },
  {
   "cell_type": "code",
   "execution_count": 8,
   "id": "74f97afe",
   "metadata": {},
   "outputs": [],
   "source": [
    "#Q5. Try to print the following lines - \n",
    "#  - Hi I'm Sunny\n",
    "#  - My address is 22\\3 \n",
    "#  - I earn 20$ daily."
   ]
  },
  {
   "cell_type": "code",
   "execution_count": 9,
   "id": "dd258576",
   "metadata": {},
   "outputs": [
    {
     "name": "stdout",
     "output_type": "stream",
     "text": [
      "Hi I'm Sunny\n",
      "My address is 22\u0003\n",
      "I earn 20$ daily.\n"
     ]
    }
   ],
   "source": [
    "print(\"\"\"Hi I'm Sunny\n",
    "My address is 22\\3\n",
    "I earn 20$ daily.\"\"\")"
   ]
  },
  {
   "cell_type": "code",
   "execution_count": 10,
   "id": "3d25d617",
   "metadata": {},
   "outputs": [],
   "source": [
    "#Q6. Take user input (name, address, date of birth etc) to fill a form for your college and print their email IDs"
   ]
  },
  {
   "cell_type": "code",
   "execution_count": 11,
   "id": "5f769ea9",
   "metadata": {},
   "outputs": [
    {
     "name": "stdout",
     "output_type": "stream",
     "text": [
      "Please enter your Name: Kunal Mehta\n",
      "Please enter your Address: 25/400, Main street, Red cross society, Bengaluru\n",
      "Please enter your date of birth: 3rd Jan, 1989\n",
      "Please enter your Contact number: 987654321\n",
      "Please enter your email: kunal03.mehta@gmail.com\n",
      "Thanks for sharing your valuable information. Your application has been registered. For any queries we will reach out to you at kunal03.mehta@gmail.com\n"
     ]
    }
   ],
   "source": [
    "Name = input(\"Please enter your Name: \")\n",
    "Address = input(\"Please enter your Address: \")\n",
    "Dateofbirth = input(\"Please enter your date of birth: \")\n",
    "Mobile = input(\"Please enter your Contact number: \")\n",
    "Emailid = input(\"Please enter your email: \")\n",
    "\n",
    "print(f\"Thanks for sharing your valuable information. Your application has been registered. For any queries we will reach out to you at {Emailid}\")"
   ]
  },
  {
   "cell_type": "code",
   "execution_count": 12,
   "id": "ec62c2e4",
   "metadata": {},
   "outputs": [],
   "source": [
    "#Q7. Convert the following - \n",
    "#  - \"22.4\" into integer\n",
    "#  - \"22\" into complex no."
   ]
  },
  {
   "cell_type": "code",
   "execution_count": 19,
   "id": "b6a4139f",
   "metadata": {},
   "outputs": [
    {
     "name": "stdout",
     "output_type": "stream",
     "text": [
      "22 <class 'int'>\n",
      "(22+0j) <class 'complex'>\n"
     ]
    }
   ],
   "source": [
    "#Ans 7. \"22.4\" can be converted to float since it contains decimal values, \n",
    "#however post round-off same can be converted to integer\n",
    "A = round(float(\"22.4\"))\n",
    "A = int(A)\n",
    "print(A, type(A))\n",
    "\n",
    "B = complex(A)\n",
    "print(B, type(B))"
   ]
  },
  {
   "cell_type": "code",
   "execution_count": null,
   "id": "d8665428",
   "metadata": {},
   "outputs": [],
   "source": []
  }
 ],
 "metadata": {
  "kernelspec": {
   "display_name": "Python 3 (ipykernel)",
   "language": "python",
   "name": "python3"
  },
  "language_info": {
   "codemirror_mode": {
    "name": "ipython",
    "version": 3
   },
   "file_extension": ".py",
   "mimetype": "text/x-python",
   "name": "python",
   "nbconvert_exporter": "python",
   "pygments_lexer": "ipython3",
   "version": "3.9.12"
  }
 },
 "nbformat": 4,
 "nbformat_minor": 5
}
